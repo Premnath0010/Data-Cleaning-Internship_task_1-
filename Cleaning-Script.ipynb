{
 "cells": [
  {
   "cell_type": "code",
   "execution_count": 70,
   "id": "c61551ba",
   "metadata": {},
   "outputs": [],
   "source": [
    "import pandas as pd"
   ]
  },
  {
   "cell_type": "code",
   "execution_count": 71,
   "id": "1dd4744f",
   "metadata": {},
   "outputs": [
    {
     "name": "stderr",
     "output_type": "stream",
     "text": [
      "C:\\Users\\nprem\\AppData\\Local\\Temp\\ipykernel_17612\\536294101.py:1: DtypeWarning: Columns (0) have mixed types. Specify dtype option on import or set low_memory=False.\n",
      "  data=pd.read_csv('sales_06_FY2020-21 copy.csv')\n"
     ]
    }
   ],
   "source": [
    "data=pd.read_csv('sales_06_FY2020-21 copy.csv')"
   ]
  },
  {
   "cell_type": "code",
   "execution_count": 72,
   "id": "da58be96",
   "metadata": {},
   "outputs": [],
   "source": [
    "df=pd.DataFrame(data)"
   ]
  },
  {
   "cell_type": "code",
   "execution_count": 73,
   "id": "2a178212",
   "metadata": {},
   "outputs": [
    {
     "data": {
      "text/html": [
       "<div>\n",
       "<style scoped>\n",
       "    .dataframe tbody tr th:only-of-type {\n",
       "        vertical-align: middle;\n",
       "    }\n",
       "\n",
       "    .dataframe tbody tr th {\n",
       "        vertical-align: top;\n",
       "    }\n",
       "\n",
       "    .dataframe thead th {\n",
       "        text-align: right;\n",
       "    }\n",
       "</style>\n",
       "<table border=\"1\" class=\"dataframe\">\n",
       "  <thead>\n",
       "    <tr style=\"text-align: right;\">\n",
       "      <th></th>\n",
       "      <th>order_id</th>\n",
       "      <th>order_date</th>\n",
       "      <th>status</th>\n",
       "      <th>item_id</th>\n",
       "      <th>sku</th>\n",
       "      <th>qty_ordered</th>\n",
       "      <th>price</th>\n",
       "      <th>value</th>\n",
       "      <th>discount_amount</th>\n",
       "      <th>total</th>\n",
       "      <th>...</th>\n",
       "      <th>SSN</th>\n",
       "      <th>Phone No.</th>\n",
       "      <th>Place Name</th>\n",
       "      <th>County</th>\n",
       "      <th>City</th>\n",
       "      <th>State</th>\n",
       "      <th>Zip</th>\n",
       "      <th>Region</th>\n",
       "      <th>User Name</th>\n",
       "      <th>Discount_Percent</th>\n",
       "    </tr>\n",
       "  </thead>\n",
       "  <tbody>\n",
       "    <tr>\n",
       "      <th>0</th>\n",
       "      <td>100354678</td>\n",
       "      <td>2020-10-01</td>\n",
       "      <td>received</td>\n",
       "      <td>574772.0</td>\n",
       "      <td>oasis_Oasis-064-36</td>\n",
       "      <td>21.0</td>\n",
       "      <td>89.9</td>\n",
       "      <td>1798.0</td>\n",
       "      <td>0.0</td>\n",
       "      <td>1798.0</td>\n",
       "      <td>...</td>\n",
       "      <td>627-31-5251</td>\n",
       "      <td>405-959-1129</td>\n",
       "      <td>Vinson</td>\n",
       "      <td>Harmon</td>\n",
       "      <td>Vinson</td>\n",
       "      <td>OK</td>\n",
       "      <td>73571</td>\n",
       "      <td>South</td>\n",
       "      <td>jwtitus</td>\n",
       "      <td>0.0</td>\n",
       "    </tr>\n",
       "    <tr>\n",
       "      <th>1</th>\n",
       "      <td>100354678</td>\n",
       "      <td>2020-10-01</td>\n",
       "      <td>received</td>\n",
       "      <td>574774.0</td>\n",
       "      <td>Fantastic_FT-48</td>\n",
       "      <td>11.0</td>\n",
       "      <td>19.0</td>\n",
       "      <td>190.0</td>\n",
       "      <td>0.0</td>\n",
       "      <td>190.0</td>\n",
       "      <td>...</td>\n",
       "      <td>627-31-5251</td>\n",
       "      <td>405-959-1129</td>\n",
       "      <td>Vinson</td>\n",
       "      <td>Harmon</td>\n",
       "      <td>Vinson</td>\n",
       "      <td>OK</td>\n",
       "      <td>73571</td>\n",
       "      <td>South</td>\n",
       "      <td>jwtitus</td>\n",
       "      <td>0.0</td>\n",
       "    </tr>\n",
       "    <tr>\n",
       "      <th>2</th>\n",
       "      <td>100354680</td>\n",
       "      <td>2020-10-01</td>\n",
       "      <td>complete</td>\n",
       "      <td>574777.0</td>\n",
       "      <td>mdeal_DMC-610-8</td>\n",
       "      <td>9.0</td>\n",
       "      <td>149.9</td>\n",
       "      <td>1199.2</td>\n",
       "      <td>0.0</td>\n",
       "      <td>1199.2</td>\n",
       "      <td>...</td>\n",
       "      <td>627-31-5251</td>\n",
       "      <td>405-959-1129</td>\n",
       "      <td>Vinson</td>\n",
       "      <td>Harmon</td>\n",
       "      <td>Vinson</td>\n",
       "      <td>OK</td>\n",
       "      <td>73571</td>\n",
       "      <td>South</td>\n",
       "      <td>jwtitus</td>\n",
       "      <td>0.0</td>\n",
       "    </tr>\n",
       "    <tr>\n",
       "      <th>3</th>\n",
       "      <td>100354680</td>\n",
       "      <td>2020-10-01</td>\n",
       "      <td>complete</td>\n",
       "      <td>574779.0</td>\n",
       "      <td>oasis_Oasis-061-36</td>\n",
       "      <td>9.0</td>\n",
       "      <td>79.9</td>\n",
       "      <td>639.2</td>\n",
       "      <td>0.0</td>\n",
       "      <td>639.2</td>\n",
       "      <td>...</td>\n",
       "      <td>627-31-5251</td>\n",
       "      <td>405-959-1129</td>\n",
       "      <td>Vinson</td>\n",
       "      <td>Harmon</td>\n",
       "      <td>Vinson</td>\n",
       "      <td>OK</td>\n",
       "      <td>73571</td>\n",
       "      <td>South</td>\n",
       "      <td>jwtitus</td>\n",
       "      <td>0.0</td>\n",
       "    </tr>\n",
       "    <tr>\n",
       "      <th>4</th>\n",
       "      <td>100367357</td>\n",
       "      <td>2020-11-13</td>\n",
       "      <td>received</td>\n",
       "      <td>595185.0</td>\n",
       "      <td>MEFNAR59C38B6CA08CD</td>\n",
       "      <td>2.0</td>\n",
       "      <td>99.9</td>\n",
       "      <td>99.9</td>\n",
       "      <td>0.0</td>\n",
       "      <td>99.9</td>\n",
       "      <td>...</td>\n",
       "      <td>627-31-5251</td>\n",
       "      <td>405-959-1129</td>\n",
       "      <td>Vinson</td>\n",
       "      <td>Harmon</td>\n",
       "      <td>Vinson</td>\n",
       "      <td>OK</td>\n",
       "      <td>73571</td>\n",
       "      <td>South</td>\n",
       "      <td>jwtitus</td>\n",
       "      <td>0.0</td>\n",
       "    </tr>\n",
       "  </tbody>\n",
       "</table>\n",
       "<p>5 rows × 36 columns</p>\n",
       "</div>"
      ],
      "text/plain": [
       "    order_id  order_date    status   item_id                  sku  \\\n",
       "0  100354678  2020-10-01  received  574772.0   oasis_Oasis-064-36   \n",
       "1  100354678  2020-10-01  received  574774.0      Fantastic_FT-48   \n",
       "2  100354680  2020-10-01  complete  574777.0      mdeal_DMC-610-8   \n",
       "3  100354680  2020-10-01  complete  574779.0   oasis_Oasis-061-36   \n",
       "4  100367357  2020-11-13  received  595185.0  MEFNAR59C38B6CA08CD   \n",
       "\n",
       "   qty_ordered  price   value  discount_amount   total  ...          SSN  \\\n",
       "0         21.0   89.9  1798.0              0.0  1798.0  ...  627-31-5251   \n",
       "1         11.0   19.0   190.0              0.0   190.0  ...  627-31-5251   \n",
       "2          9.0  149.9  1199.2              0.0  1199.2  ...  627-31-5251   \n",
       "3          9.0   79.9   639.2              0.0   639.2  ...  627-31-5251   \n",
       "4          2.0   99.9    99.9              0.0    99.9  ...  627-31-5251   \n",
       "\n",
       "     Phone No.  Place Name  County    City State    Zip Region User Name  \\\n",
       "0  405-959-1129     Vinson  Harmon  Vinson    OK  73571  South   jwtitus   \n",
       "1  405-959-1129     Vinson  Harmon  Vinson    OK  73571  South   jwtitus   \n",
       "2  405-959-1129     Vinson  Harmon  Vinson    OK  73571  South   jwtitus   \n",
       "3  405-959-1129     Vinson  Harmon  Vinson    OK  73571  South   jwtitus   \n",
       "4  405-959-1129     Vinson  Harmon  Vinson    OK  73571  South   jwtitus   \n",
       "\n",
       "  Discount_Percent  \n",
       "0              0.0  \n",
       "1              0.0  \n",
       "2              0.0  \n",
       "3              0.0  \n",
       "4              0.0  \n",
       "\n",
       "[5 rows x 36 columns]"
      ]
     },
     "execution_count": 73,
     "metadata": {},
     "output_type": "execute_result"
    }
   ],
   "source": [
    "df.head(5)"
   ]
  },
  {
   "cell_type": "code",
   "execution_count": 74,
   "id": "c1c4f566",
   "metadata": {},
   "outputs": [
    {
     "data": {
      "text/plain": [
       "order_id            0\n",
       "order_date          0\n",
       "status              0\n",
       "item_id             0\n",
       "sku                 0\n",
       "qty_ordered         0\n",
       "price               0\n",
       "value               0\n",
       "discount_amount     0\n",
       "total               0\n",
       "category            0\n",
       "payment_method      0\n",
       "bi_st               0\n",
       "cust_id             0\n",
       "year                0\n",
       "month               0\n",
       "ref_num             0\n",
       "Name Prefix         0\n",
       "First Name          0\n",
       "Middle Initial      0\n",
       "Last Name           0\n",
       "Gender              0\n",
       "age                 0\n",
       "full_name           0\n",
       "E Mail              0\n",
       "Customer Since      0\n",
       "SSN                 0\n",
       "Phone No.           0\n",
       "Place Name          0\n",
       "County              0\n",
       "City                0\n",
       "State               0\n",
       "Zip                 0\n",
       "Region              0\n",
       "User Name           0\n",
       "Discount_Percent    0\n",
       "dtype: int64"
      ]
     },
     "execution_count": 74,
     "metadata": {},
     "output_type": "execute_result"
    }
   ],
   "source": [
    "df.isnull().sum()"
   ]
  },
  {
   "cell_type": "code",
   "execution_count": 75,
   "id": "023ca06d",
   "metadata": {},
   "outputs": [],
   "source": [
    "df.drop_duplicates(inplace=True)"
   ]
  },
  {
   "cell_type": "code",
   "execution_count": 76,
   "id": "d9d22480",
   "metadata": {},
   "outputs": [],
   "source": [
    "df['Gender']=df['Gender'].replace({'F':'Female','M':'Male'})"
   ]
  },
  {
   "cell_type": "code",
   "execution_count": 77,
   "id": "58b1daf3",
   "metadata": {},
   "outputs": [
    {
     "data": {
      "text/plain": [
       "0         Female\n",
       "1         Female\n",
       "2         Female\n",
       "3         Female\n",
       "4         Female\n",
       "           ...  \n",
       "286387      Male\n",
       "286388      Male\n",
       "286389    Female\n",
       "286390    Female\n",
       "286391      Male\n",
       "Name: Gender, Length: 286392, dtype: object"
      ]
     },
     "execution_count": 77,
     "metadata": {},
     "output_type": "execute_result"
    }
   ],
   "source": [
    "df['Gender']"
   ]
  },
  {
   "cell_type": "code",
   "execution_count": 78,
   "id": "ecbea774",
   "metadata": {},
   "outputs": [],
   "source": [
    "df['age'] = df['age'].astype(int)\n"
   ]
  },
  {
   "cell_type": "code",
   "execution_count": 79,
   "id": "459402f8",
   "metadata": {},
   "outputs": [
    {
     "data": {
      "text/plain": [
       "0         43\n",
       "1         43\n",
       "2         43\n",
       "3         43\n",
       "4         43\n",
       "          ..\n",
       "286387    51\n",
       "286388    52\n",
       "286389    38\n",
       "286390    38\n",
       "286391    28\n",
       "Name: age, Length: 286392, dtype: int32"
      ]
     },
     "execution_count": 79,
     "metadata": {},
     "output_type": "execute_result"
    }
   ],
   "source": [
    "df['age']"
   ]
  },
  {
   "cell_type": "code",
   "execution_count": 80,
   "id": "ce11e363",
   "metadata": {},
   "outputs": [
    {
     "data": {
      "text/plain": [
       "order_id             object\n",
       "order_date           object\n",
       "status               object\n",
       "item_id             float64\n",
       "sku                  object\n",
       "qty_ordered         float64\n",
       "price               float64\n",
       "value               float64\n",
       "discount_amount     float64\n",
       "total               float64\n",
       "category             object\n",
       "payment_method       object\n",
       "bi_st                object\n",
       "cust_id             float64\n",
       "year                  int64\n",
       "month                object\n",
       "ref_num               int64\n",
       "Name Prefix          object\n",
       "First Name           object\n",
       "Middle Initial       object\n",
       "Last Name            object\n",
       "Gender               object\n",
       "age                   int32\n",
       "full_name            object\n",
       "E Mail               object\n",
       "Customer Since       object\n",
       "SSN                  object\n",
       "Phone No.            object\n",
       "Place Name           object\n",
       "County               object\n",
       "City                 object\n",
       "State                object\n",
       "Zip                   int64\n",
       "Region               object\n",
       "User Name            object\n",
       "Discount_Percent    float64\n",
       "dtype: object"
      ]
     },
     "execution_count": 80,
     "metadata": {},
     "output_type": "execute_result"
    }
   ],
   "source": [
    "df.dtypes"
   ]
  },
  {
   "cell_type": "code",
   "execution_count": 81,
   "id": "1cde0bcc",
   "metadata": {},
   "outputs": [],
   "source": [
    "df['order_date'] = pd.to_datetime(df['order_date'], errors='coerce') "
   ]
  },
  {
   "cell_type": "code",
   "execution_count": null,
   "id": "921f4d5c",
   "metadata": {},
   "outputs": [
    {
     "data": {
      "text/plain": [
       "ORDER_ID                    object\n",
       "ORDER_DATE          datetime64[ns]\n",
       "STATUS                      object\n",
       "ITEM_ID                    float64\n",
       "SKU                         object\n",
       "QTY_ORDERED                float64\n",
       "PRICE                      float64\n",
       "VALUE                      float64\n",
       "DISCOUNT_AMOUNT            float64\n",
       "TOTAL                      float64\n",
       "CATEGORY                    object\n",
       "PAYMENT_METHOD              object\n",
       "BI_ST                       object\n",
       "CUST_ID                    float64\n",
       "YEAR                         int64\n",
       "MONTH                       object\n",
       "REF_NUM                      int64\n",
       "NAME PREFIX                 object\n",
       "FIRST NAME                  object\n",
       "MIDDLE INITIAL              object\n",
       "LAST NAME                   object\n",
       "GENDER                      object\n",
       "AGE                          int32\n",
       "FULL_NAME                   object\n",
       "E MAIL                      object\n",
       "CUSTOMER SINCE              object\n",
       "SSN                         object\n",
       "PHONE NO.                   object\n",
       "PLACE NAME                  object\n",
       "COUNTY                      object\n",
       "CITY                        object\n",
       "STATE                       object\n",
       "ZIP                          int64\n",
       "REGION                      object\n",
       "USER NAME                   object\n",
       "DISCOUNT_PERCENT           float64\n",
       "dtype: object"
      ]
     },
     "execution_count": 99,
     "metadata": {},
     "output_type": "execute_result"
    }
   ],
   "source": [
    "df.dtypes#shoud be change datetime64[ns]"
   ]
  },
  {
   "cell_type": "code",
   "execution_count": 88,
   "id": "01fef972",
   "metadata": {},
   "outputs": [
    {
     "data": {
      "text/plain": [
       "0        2020-10-01\n",
       "1        2020-10-01\n",
       "2        2020-10-01\n",
       "3        2020-10-01\n",
       "4        2020-11-13\n",
       "            ...    \n",
       "286387   2021-09-30\n",
       "286388   2021-09-30\n",
       "286389   2021-09-30\n",
       "286390   2021-09-30\n",
       "286391   2021-09-30\n",
       "Name: order_date, Length: 286392, dtype: datetime64[ns]"
      ]
     },
     "execution_count": 88,
     "metadata": {},
     "output_type": "execute_result"
    }
   ],
   "source": [
    "df['order_date']"
   ]
  },
  {
   "cell_type": "code",
   "execution_count": 93,
   "id": "89a53754",
   "metadata": {},
   "outputs": [],
   "source": [
    "df.columns=df.columns.str.strip().str.upper()"
   ]
  },
  {
   "cell_type": "code",
   "execution_count": 95,
   "id": "a99d662d",
   "metadata": {},
   "outputs": [
    {
     "data": {
      "text/html": [
       "<div>\n",
       "<style scoped>\n",
       "    .dataframe tbody tr th:only-of-type {\n",
       "        vertical-align: middle;\n",
       "    }\n",
       "\n",
       "    .dataframe tbody tr th {\n",
       "        vertical-align: top;\n",
       "    }\n",
       "\n",
       "    .dataframe thead th {\n",
       "        text-align: right;\n",
       "    }\n",
       "</style>\n",
       "<table border=\"1\" class=\"dataframe\">\n",
       "  <thead>\n",
       "    <tr style=\"text-align: right;\">\n",
       "      <th></th>\n",
       "      <th>ORDER_ID</th>\n",
       "      <th>ORDER_DATE</th>\n",
       "      <th>STATUS</th>\n",
       "      <th>ITEM_ID</th>\n",
       "      <th>SKU</th>\n",
       "      <th>QTY_ORDERED</th>\n",
       "      <th>PRICE</th>\n",
       "      <th>VALUE</th>\n",
       "      <th>DISCOUNT_AMOUNT</th>\n",
       "      <th>TOTAL</th>\n",
       "      <th>...</th>\n",
       "      <th>SSN</th>\n",
       "      <th>PHONE NO.</th>\n",
       "      <th>PLACE NAME</th>\n",
       "      <th>COUNTY</th>\n",
       "      <th>CITY</th>\n",
       "      <th>STATE</th>\n",
       "      <th>ZIP</th>\n",
       "      <th>REGION</th>\n",
       "      <th>USER NAME</th>\n",
       "      <th>DISCOUNT_PERCENT</th>\n",
       "    </tr>\n",
       "  </thead>\n",
       "  <tbody>\n",
       "    <tr>\n",
       "      <th>0</th>\n",
       "      <td>100354678</td>\n",
       "      <td>2020-10-01</td>\n",
       "      <td>received</td>\n",
       "      <td>574772.0</td>\n",
       "      <td>oasis_Oasis-064-36</td>\n",
       "      <td>21.0</td>\n",
       "      <td>89.9</td>\n",
       "      <td>1798.0</td>\n",
       "      <td>0.0</td>\n",
       "      <td>1798.0</td>\n",
       "      <td>...</td>\n",
       "      <td>627-31-5251</td>\n",
       "      <td>405-959-1129</td>\n",
       "      <td>Vinson</td>\n",
       "      <td>Harmon</td>\n",
       "      <td>Vinson</td>\n",
       "      <td>OK</td>\n",
       "      <td>73571</td>\n",
       "      <td>South</td>\n",
       "      <td>jwtitus</td>\n",
       "      <td>0.0</td>\n",
       "    </tr>\n",
       "    <tr>\n",
       "      <th>1</th>\n",
       "      <td>100354678</td>\n",
       "      <td>2020-10-01</td>\n",
       "      <td>received</td>\n",
       "      <td>574774.0</td>\n",
       "      <td>Fantastic_FT-48</td>\n",
       "      <td>11.0</td>\n",
       "      <td>19.0</td>\n",
       "      <td>190.0</td>\n",
       "      <td>0.0</td>\n",
       "      <td>190.0</td>\n",
       "      <td>...</td>\n",
       "      <td>627-31-5251</td>\n",
       "      <td>405-959-1129</td>\n",
       "      <td>Vinson</td>\n",
       "      <td>Harmon</td>\n",
       "      <td>Vinson</td>\n",
       "      <td>OK</td>\n",
       "      <td>73571</td>\n",
       "      <td>South</td>\n",
       "      <td>jwtitus</td>\n",
       "      <td>0.0</td>\n",
       "    </tr>\n",
       "  </tbody>\n",
       "</table>\n",
       "<p>2 rows × 36 columns</p>\n",
       "</div>"
      ],
      "text/plain": [
       "    ORDER_ID ORDER_DATE    STATUS   ITEM_ID                 SKU  QTY_ORDERED  \\\n",
       "0  100354678 2020-10-01  received  574772.0  oasis_Oasis-064-36         21.0   \n",
       "1  100354678 2020-10-01  received  574774.0     Fantastic_FT-48         11.0   \n",
       "\n",
       "   PRICE   VALUE  DISCOUNT_AMOUNT   TOTAL  ...          SSN     PHONE NO.  \\\n",
       "0   89.9  1798.0              0.0  1798.0  ...  627-31-5251  405-959-1129   \n",
       "1   19.0   190.0              0.0   190.0  ...  627-31-5251  405-959-1129   \n",
       "\n",
       "  PLACE NAME  COUNTY    CITY STATE    ZIP REGION USER NAME DISCOUNT_PERCENT  \n",
       "0     Vinson  Harmon  Vinson    OK  73571  South   jwtitus              0.0  \n",
       "1     Vinson  Harmon  Vinson    OK  73571  South   jwtitus              0.0  \n",
       "\n",
       "[2 rows x 36 columns]"
      ]
     },
     "execution_count": 95,
     "metadata": {},
     "output_type": "execute_result"
    }
   ],
   "source": [
    "df.head(2)"
   ]
  },
  {
   "cell_type": "code",
   "execution_count": 89,
   "id": "37bd125d",
   "metadata": {},
   "outputs": [],
   "source": [
    "df.to_csv('sales_06_FY2020-21 copy.csv',index=False)"
   ]
  }
 ],
 "metadata": {
  "kernelspec": {
   "display_name": "base",
   "language": "python",
   "name": "python3"
  },
  "language_info": {
   "codemirror_mode": {
    "name": "ipython",
    "version": 3
   },
   "file_extension": ".py",
   "mimetype": "text/x-python",
   "name": "python",
   "nbconvert_exporter": "python",
   "pygments_lexer": "ipython3",
   "version": "3.12.7"
  }
 },
 "nbformat": 4,
 "nbformat_minor": 5
}
